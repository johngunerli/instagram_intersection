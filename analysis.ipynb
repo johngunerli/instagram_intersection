{
 "cells": [
  {
   "cell_type": "code",
   "execution_count": null,
   "metadata": {},
   "outputs": [],
   "source": [
    "import zipfile\n",
    "# unzip the file\n",
    "import os\n",
    "for file in os.listdir('.'):\n",
    "  if \"unzipped\" not in os.listdir('.'):\n",
    "      if file.endswith('.zip'):\n",
    "        with zipfile.ZipFile(file, 'r') as zip_ref:\n",
    "            zip_ref.extractall('unzipped')\n",
    "            print('unzipped', file)\n",
    "            os.remove(file)\n",
    "            print('removed', file)"
   ]
  },
  {
   "cell_type": "code",
   "execution_count": null,
   "metadata": {},
   "outputs": [],
   "source": [
    "import pandas as pd \n",
    "import json \n",
    "\n",
    "\n",
    "# pass in location\n",
    "\n",
    "followers_json = \"./unzipped/connections/followers_and_following/followers_1.json\"\n",
    "following_json = \"./unzipped/connections/followers_and_following/following.json\""
   ]
  },
  {
   "cell_type": "code",
   "execution_count": null,
   "metadata": {},
   "outputs": [],
   "source": [
    "# get the following first, because these files do not have the same file structure...\n",
    "\n",
    "# Read the JSON data from the file\n",
    "with open(followers_json, 'r') as file:\n",
    "    json_data = json.load(file)\n",
    "\n",
    "# Parse the JSON to extract Instagram usernames\n",
    "usernames = []\n",
    "for item in json_data:\n",
    "    for string_data in item['string_list_data']:\n",
    "        usernames.append(string_data['value'])\n",
    "\n",
    "# Create a DataFrame from the usernames\n",
    "df_followers = pd.DataFrame(usernames, columns=['username'])"
   ]
  },
  {
   "cell_type": "code",
   "execution_count": null,
   "metadata": {},
   "outputs": [],
   "source": [
    "with open(following_json, 'r') as file:\n",
    "    json_data = json.load(file)\n",
    "\n",
    "# json_data now contains the entire JSON structure. Access the 'relationships_following' key to get the relevant list.\n",
    "relationships_data = json_data['relationships_following']\n",
    "\n",
    "# Parse the JSON to extract Instagram usernames\n",
    "usernames = []\n",
    "for item in relationships_data:\n",
    "    for string_data in item['string_list_data']:\n",
    "        usernames.append(string_data['value'])\n",
    "\n",
    "# Create a DataFrame from the usernames\n",
    "df_following = pd.DataFrame(usernames, columns=['username'])"
   ]
  },
  {
   "cell_type": "code",
   "execution_count": null,
   "metadata": {},
   "outputs": [],
   "source": [
    "# now, we just compare these two dataframes to see who I am following but not following me back\n",
    "\n",
    "following_set = set(df_following['username'])\n",
    "\n",
    "followers_set = set(df_followers['username'])\n",
    "\n",
    "# Find the difference between the two sets\n",
    "\n",
    "df_not_following_back = pd.DataFrame(list(following_set - followers_set), columns=['username'])"
   ]
  },
  {
   "cell_type": "code",
   "execution_count": null,
   "metadata": {},
   "outputs": [],
   "source": [
    "df_not_following_back.to_json('not_following_back.json', orient='records')"
   ]
  },
  {
   "cell_type": "code",
   "execution_count": null,
   "metadata": {},
   "outputs": [],
   "source": [
    "df_not_followed_back = pd.DataFrame(list(followers_set - following_set), columns=['username'])"
   ]
  },
  {
   "cell_type": "code",
   "execution_count": null,
   "metadata": {},
   "outputs": [],
   "source": [
    "df_not_followed_back.to_json('not_followed_back.json', orient='records')"
   ]
  }
 ],
 "metadata": {
  "kernelspec": {
   "display_name": "base",
   "language": "python",
   "name": "python3"
  },
  "language_info": {
   "codemirror_mode": {
    "name": "ipython",
    "version": 3
   },
   "file_extension": ".py",
   "mimetype": "text/x-python",
   "name": "python",
   "nbconvert_exporter": "python",
   "pygments_lexer": "ipython3",
   "version": "3.9.18"
  }
 },
 "nbformat": 4,
 "nbformat_minor": 2
}
